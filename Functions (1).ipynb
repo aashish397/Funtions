{
  "nbformat": 4,
  "nbformat_minor": 0,
  "metadata": {
    "colab": {
      "provenance": []
    },
    "kernelspec": {
      "name": "python3",
      "display_name": "Python 3"
    },
    "language_info": {
      "name": "python"
    }
  },
  "cells": [
    {
      "cell_type": "markdown",
      "source": [
        "              * Function Assignment *\n",
        "\n",
        "1. What is the difference between a function and a method in python?\n",
        "-> # Function:\n",
        "A function is a block of reusable code that performs a specific task. It can be defined using the def keyword and can be called independently.\n",
        "Functions can exist outside of classes or objects.\n",
        " Method:\n",
        "A method is a function that is associated with an object (usually a class) and is called on an instance of that class.\n",
        "Methods are always defined inside a class and are used to perform operations related to the instance of that class. They always have at least one parameter, typically self, which refers to the instance of the class."
      ],
      "metadata": {
        "id": "fMgLxLNYaotO"
      }
    },
    {
      "cell_type": "code",
      "source": [
        "# Example of Function\n",
        "def add_numbers(a, b):\n",
        "    return a + b\n",
        "print(add_numbers(5,3))\n",
        "\n",
        "# Example of Method\n",
        "class Calculator:\n",
        "    def add(self, a, b):\n",
        "        return a + b\n",
        "calculator = Calculator()\n",
        "print(calculator.add(5,3))"
      ],
      "metadata": {
        "colab": {
          "base_uri": "https://localhost:8080/"
        },
        "id": "xecthDrpbwZC",
        "outputId": "9808c515-caf2-419b-8432-b4ff634d4131"
      },
      "execution_count": 6,
      "outputs": [
        {
          "output_type": "stream",
          "name": "stdout",
          "text": [
            "8\n",
            "8\n"
          ]
        }
      ]
    },
    {
      "cell_type": "markdown",
      "source": [
        "2. Explain the concept of function arguments and parameters in python.\n",
        "-> Function Arguments\n",
        "An argument is the actual value or data you provide to the function when calling it. Arguments are assigned to the parameters when the function is invoked.\n",
        "\n",
        "Function Parameters\n",
        "A parameter is a variable defined in the function definition that accepts values when the function is called. Think of parameters as placeholders for the values you will pass to the function."
      ],
      "metadata": {
        "id": "L2lK49I0cRzD"
      }
    },
    {
      "cell_type": "code",
      "source": [
        "# Example of function argument\n",
        "def greet(name):\n",
        "    print(f\"Hello, {name}!\")\n",
        "greet(\"Alice\")"
      ],
      "metadata": {
        "colab": {
          "base_uri": "https://localhost:8080/"
        },
        "id": "cADBE81pdSKQ",
        "outputId": "f5bfdffc-5023-48ec-d950-09ee561d34f6"
      },
      "execution_count": 8,
      "outputs": [
        {
          "output_type": "stream",
          "name": "stdout",
          "text": [
            "Hello, Alice!\n"
          ]
        }
      ]
    },
    {
      "cell_type": "code",
      "source": [
        "# Example of function parameter\n",
        "\n",
        "def greet(name):\n",
        "    print(f\"Hello, {name}!\")"
      ],
      "metadata": {
        "id": "Mmrz6DZvdxgO"
      },
      "execution_count": 12,
      "outputs": []
    },
    {
      "cell_type": "markdown",
      "source": [
        "3. What are the different ways to define and call a function in Python?\n",
        "-> 1. Defining and Calling a Regular Function:\n",
        "The simplest way to define a function is by using the def keyword. You can then call the function by using its name followed by parentheses.\n",
        "2. Defining and Calling a Function with Default Arguments\n",
        "You can provide default values for parameters, so if no argument is passed for those parameters, the default value is used.\n",
        "3. Defining and Calling a Function with Variable-length Arguments\n",
        "Python allows you to pass a variable number of positional arguments using *args and keyword arguments using **kwargs.\n",
        "4. Defining and Calling a Lambda Function (Anonymous Function)\n",
        "A lambda function is a small, anonymous function defined using the lambda keyword. It is typically used for simple operations and passed as arguments to higher-order functions.\n",
        "\n",
        "4. What is the purpose of the 'return' statement in a python function?\n",
        "-> The return statement in Python is used to exit a function and return a value from the function back to the caller. It allows the function to produce a result that can be used elsewhere in the program. Without a return statement, a function will return None by default.\n",
        "Exiting the Function:\n",
        "When the return statement is encountered, the function stops executing immediately, and control is passed back to the calling code.\n",
        "Returning a Value:\n",
        "The return statement allows the function to send a value (or object) back to the caller. This value can be assigned to a variable or used in further calculations.\n",
        "\n",
        "5. What are iterators in python and how do they differ from iterable?\n",
        "-> 1. Iterable\n",
        "An iterable is any Python object that can return an iterator. An iterable is something that you can loop over, and it provides an interface for iteration. You can think of an iterable as a container that can be traversed one element at a time.To be an iterable, an object must implement the __iter__() method or the __getitem__() method.\n",
        "  2. Iterator\n",
        "An iterator is an object that represents a stream of data and is used to iterate over an iterable. An iterator has two key methods:\n",
        "__iter__() – This method returns the iterator object itself. This allows iterators to be used in loops.\n",
        "__next__() – This method returns the next item in the sequence. When there are no more items, it raises a StopIteration exception.\n",
        "\n",
        "6. Explain the concept of generators in python and how they are defined.\n",
        "-> A generator in Python is a special type of iterator that allows you to create an iterable sequence of values lazily (on demand), without storing the entire sequence in memory. This makes generators especially useful when dealing with large data sets or infinite sequences, as they only compute the next value when requested.\n",
        "Generators can be defined in two main ways:\n",
        "Using a Generator Function\n",
        "Using a Generator Expression\n",
        "\n",
        "7. What are the advantages of using generators over regular functions?\n",
        "-> One of the primary advantages of generators is their memory efficiency. In a regular function, you might return a large list or sequence that holds all values in memory. This can be problematic when working with large datasets or sequences that don’t fit in memory.\n",
        "Generators, on the other hand, generate items one at a time and only compute values when requested, meaning they don’t need to store the entire sequence in memory. This allows you to work with large datasets or even infinite sequences without consuming large amounts of memory.\n",
        "Generators use lazy evaluation, meaning they compute values only when needed, rather than computing everything up front. This is especially useful when working with large or infinite sequences where you may not need to compute all values at once.\n",
        "\n",
        "8. What is a lambda function in python and when is it typically used?\n",
        "-> A lambda function in Python is a small anonymous function, defined using the lambda keyword. Unlike regular functions defined with the def keyword, lambda functions can be created without a name. They are typically used for short-term, small tasks that are required temporarily.\n",
        "Lambda functions are typically used in situations where you need a short function for a short period of time, often as an argument to higher-order functions (functions that take other functions as arguments). They are often used for simple operations, such as sorting, filtering, or mapping values.\n",
        "\n",
        "9. Explain the purpose and usage of the 'map' function in python.\n",
        "-> The map() function in Python is used to apply a function to all the items in an iterable (like a list, tuple, or any other iterable). It transforms each element of the iterable by applying the given function to it, and returns an iterator that produces the transformed values.\n",
        "The map() function is often used when you need to perform the same operation on each element of a sequence and return the results as an iterable.\n",
        "When you need to apply the same function to each item in an iterable (or multiple iterables).\n",
        "Usage of map() function in python:\n",
        "When you want to transform or modify each element in a collection.\n",
        "When you want to avoid writing a loop and prefer a more functional approach.\n",
        "When you have multiple iterables and need to process corresponding elements from each iterable simultaneously.\n",
        "\n",
        "10. What is the difference between 'map()','reduce()',and 'filter()' functions in python?\n",
        "-> The map(), reduce(), and filter() functions in Python are all part of functional programming and are used to process iterables (like lists or tuples) in different ways. While all three functions apply a function to elements of an iterable, they differ in how they process those elements and the results they return.\n",
        "1. map() Function\n",
        "The map() function applies a given function to each item in an iterable (or multiple iterables) and returns an iterator that produces the transformed values.\n",
        "2. filter() Function\n",
        "The filter() function applies a given function to each item in an iterable and returns an iterator containing only the items that satisfy the condition defined by the function (i.e., where the function returns True).\n",
        "3. reduce() Function\n",
        "The reduce() function is used to apply a binary function (a function that takes two arguments) cumulatively to the items of an iterable, from left to right, so as to reduce the iterable to a single accumulated result.\n"
      ],
      "metadata": {
        "id": "X3W7e_XDeIPV"
      }
    },
    {
      "cell_type": "code",
      "source": [
        "                       * Practical Questions *"
      ],
      "metadata": {
        "id": "yhKrXEHtp8UB"
      },
      "execution_count": null,
      "outputs": []
    },
    {
      "cell_type": "code",
      "source": [
        "# 1. Write a Python function that takes a list of numbers as input and returns the sum of all even numbers in the list.\n",
        "def sum_even_numbers(numbers):\n",
        "    sum_even = 0\n",
        "    for num in numbers:\n",
        "        if num % 2 == 0:\n",
        "            sum_even += num\n",
        "    return sum_even\n",
        "numbers = [1, 2, 3, 4, 5, 6, 7, 8, 9, 10]\n",
        "result = sum_even_numbers(numbers)\n",
        "print(result)"
      ],
      "metadata": {
        "colab": {
          "base_uri": "https://localhost:8080/"
        },
        "id": "JEZ3FxTDqD97",
        "outputId": "42a27832-7743-4188-839d-78272faac0cf"
      },
      "execution_count": 4,
      "outputs": [
        {
          "output_type": "stream",
          "name": "stdout",
          "text": [
            "30\n"
          ]
        }
      ]
    },
    {
      "cell_type": "code",
      "source": [
        "# 2. Create a python function that accepts a string and returns the reverse of that string\n",
        "def reverse_string(string):\n",
        "    return string[::-1]\n",
        "string = \"Hello, World!\"\n",
        "result = reverse_string(string)\n",
        "print(result)"
      ],
      "metadata": {
        "colab": {
          "base_uri": "https://localhost:8080/"
        },
        "id": "9XePyPceq27d",
        "outputId": "6b72daef-6b66-4b38-9dd4-986f1a86cf38"
      },
      "execution_count": 5,
      "outputs": [
        {
          "output_type": "stream",
          "name": "stdout",
          "text": [
            "!dlroW ,olleH\n"
          ]
        }
      ]
    },
    {
      "cell_type": "code",
      "source": [
        "# 3. Implement a Python function that takes a list of integers and returns a new list containing the squares of each number.\n",
        "def square_numbers(numbers):\n",
        "    squared_numbers = []\n",
        "    for num in numbers:\n",
        "        squared_numbers.append(num ** 2)\n",
        "    return squared_numbers\n",
        "numbers = [1, 2, 3, 4, 5]\n",
        "result = square_numbers(numbers)\n",
        "print(result)"
      ],
      "metadata": {
        "colab": {
          "base_uri": "https://localhost:8080/"
        },
        "id": "ZxcqGu46rKN9",
        "outputId": "a6596a01-451a-46ad-dc62-2869d64b9c42"
      },
      "execution_count": 7,
      "outputs": [
        {
          "output_type": "stream",
          "name": "stdout",
          "text": [
            "[1, 4, 9, 16, 25]\n"
          ]
        }
      ]
    },
    {
      "cell_type": "code",
      "source": [
        "# 4. Write a Python function that checks if a given number is prime or not from 1 to 200.\n",
        "def prime_number(number):\n",
        "    if number < 2:\n",
        "        return False\n",
        "    for i in range(2, int(number ** 0.5) + 1):\n",
        "        if number % i == 0:\n",
        "            return False\n",
        "    return True\n",
        "    numbers = range(1, 201)\n",
        "result = list(filter(prime_number, numbers))\n",
        "print(prime_number(201))"
      ],
      "metadata": {
        "colab": {
          "base_uri": "https://localhost:8080/"
        },
        "id": "7K105sf_rjnD",
        "outputId": "22d96191-1632-43d1-9a5c-b2f1673c7a12"
      },
      "execution_count": 16,
      "outputs": [
        {
          "output_type": "stream",
          "name": "stdout",
          "text": [
            "False\n"
          ]
        }
      ]
    },
    {
      "cell_type": "code",
      "source": [
        "# 5.Create an iterator class in Python that generates the Fibonacci sequence up to a specified number of terms.\n",
        "class FibonacciIterator:\n",
        "    def"
      ],
      "metadata": {
        "id": "rIFRj1UhsjQM"
      },
      "execution_count": null,
      "outputs": []
    },
    {
      "cell_type": "code",
      "source": [
        "# 6. Write a generator function in Python that yields the powers of 2 up to a given exponent.\n",
        "def powers_of_2(exponent):\n",
        "    for i in range(exponent + 1):\n",
        "        yield 2 ** i\n",
        "for power in powers_of_2(5):\n",
        "    print(power)"
      ],
      "metadata": {
        "colab": {
          "base_uri": "https://localhost:8080/"
        },
        "id": "m6Wny3pRs5hp",
        "outputId": "de22d1db-4b66-46ae-c0e7-2e5c1511e48c"
      },
      "execution_count": 17,
      "outputs": [
        {
          "output_type": "stream",
          "name": "stdout",
          "text": [
            "1\n",
            "2\n",
            "4\n",
            "8\n",
            "16\n",
            "32\n"
          ]
        }
      ]
    },
    {
      "cell_type": "code",
      "source": [
        "# 7. Implement a generator function that reads a file line by line and yields each line as a string.\n",
        "def read_file_line_by_line(file_path):\n",
        "    with open(file_path, 'r', encoding='utf-8') as file:\n",
        "        for line in file:\n",
        "            yield line.rstrip()\n",
        "read_file_line_by_line(\"file.txt\")"
      ],
      "metadata": {
        "colab": {
          "base_uri": "https://localhost:8080/"
        },
        "id": "R8Plij-3tAaV",
        "outputId": "7a7cfb15-1fcf-4dcd-816e-cd63675bf901"
      },
      "execution_count": 14,
      "outputs": [
        {
          "output_type": "execute_result",
          "data": {
            "text/plain": [
              "<generator object read_file_line_by_line at 0x7c59387e8220>"
            ]
          },
          "metadata": {},
          "execution_count": 14
        }
      ]
    },
    {
      "cell_type": "code",
      "source": [
        "# 8. Use a lambda function in Python to sort a list of tuples based on the second element of each tuple.\n",
        "data = [('apple', 3), ('banana', 1), ('cherry', 2)]\n",
        "sorted_data = sorted(data, key=lambda x: x[1])\n",
        "print(sorted_data)"
      ],
      "metadata": {
        "colab": {
          "base_uri": "https://localhost:8080/"
        },
        "id": "7N2CKlELtXi6",
        "outputId": "e8e8ff5d-2966-429d-e7d8-39b4d8131cb6"
      },
      "execution_count": 29,
      "outputs": [
        {
          "output_type": "stream",
          "name": "stdout",
          "text": [
            "[('banana', 1), ('cherry', 2), ('apple', 3)]\n"
          ]
        }
      ]
    },
    {
      "cell_type": "code",
      "source": [
        "#9.  Write a Python program that uses `map()` to convert a list of temperatures from Celsius to Fahrenheit.\n",
        "def celsius_to_fahrenheit(celsius):\n",
        "    return (celsius * 9/5) + 32\n",
        "temperatures_celsius = [0, 20, 37, 100, -10, 15]\n",
        "temperatures_fahrenheit = list(map(celsius_to_fahrenheit, temperatures_celsius))\n",
        "print(\"Temperatures in Fahrenheit:\", temperatures_fahrenheit)"
      ],
      "metadata": {
        "colab": {
          "base_uri": "https://localhost:8080/"
        },
        "id": "FE15x1sHtgYb",
        "outputId": "7b8c803b-2f06-4977-8be0-c8f74e3d0559"
      },
      "execution_count": 5,
      "outputs": [
        {
          "output_type": "stream",
          "name": "stdout",
          "text": [
            "Temperatures in Fahrenheit: [32.0, 68.0, 98.6, 212.0, 14.0, 59.0]\n"
          ]
        }
      ]
    },
    {
      "cell_type": "code",
      "source": [
        "# 10. Create a Python program that uses `filter()` to remove all the vowels from a given string.\n",
        "def remove_vowels(string):\n",
        "    vowels = 'aeiouAEIOU'\n",
        "    filtered_string = ''.join(filter(lambda char: char not in vowels, string))\n",
        "    return filtered_string\n",
        "remove_vowels(\"Aditi Patil\")"
      ],
      "metadata": {
        "colab": {
          "base_uri": "https://localhost:8080/",
          "height": 35
        },
        "id": "by9cQsOVtqya",
        "outputId": "4863ecb7-1440-4c6c-bb1b-da4b1c60aa1e"
      },
      "execution_count": 34,
      "outputs": [
        {
          "output_type": "execute_result",
          "data": {
            "text/plain": [
              "'dt Ptl'"
            ],
            "application/vnd.google.colaboratory.intrinsic+json": {
              "type": "string"
            }
          },
          "metadata": {},
          "execution_count": 34
        }
      ]
    },
    {
      "cell_type": "code",
      "source": [
        "# 11. Imagine an accounting routine used in a book shop. It works on a list with sublists, which look like this:\n",
        "# Write a Python program, which returns a list with 2-tuples. Each tuple consists of the order number and the product of the price per item and the quantity. The product should be increased by 10,- € if the value of the\n",
        "orders = [\n",
        "    [34587, \"Learning Python, Mark Lutz\", 4, 40.95],\n",
        "    [98762, \"Programming Python, Mark Lutz\", 5, 56.80],\n",
        "    [77226, \"Head First Python, Paul Barry\", 3, 32.95],\n",
        "    [88112, \"Einführung in Python3, Bernd Klein\", 3, 24.99]\n",
        "]\n",
        "result = list(map(lambda order: (order[0], order[2] * order[3] if order[2] * order[3] >= 100 else order[2] * order[3] + 10), orders))\n",
        "\n",
        "print(result)"
      ],
      "metadata": {
        "colab": {
          "base_uri": "https://localhost:8080/"
        },
        "id": "zBIk86jPt3F5",
        "outputId": "f8ca767a-c8f4-4d8d-9860-ed7b4a9077bd"
      },
      "execution_count": 15,
      "outputs": [
        {
          "output_type": "stream",
          "name": "stdout",
          "text": [
            "[(34587, 163.8), (98762, 284.0), (77226, 108.85000000000001), (88112, 84.97)]\n"
          ]
        }
      ]
    },
    {
      "cell_type": "code",
      "source": [],
      "metadata": {
        "colab": {
          "base_uri": "https://localhost:8080/"
        },
        "id": "Zz4NozuOuDzj",
        "outputId": "288f2c7f-a09b-428b-c7e4-2199b015341d"
      },
      "execution_count": 16,
      "outputs": [
        {
          "output_type": "stream",
          "name": "stdout",
          "text": [
            "Sum: 113\n"
          ]
        }
      ]
    }
  ]
}